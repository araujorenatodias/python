{
 "cells": [
  {
   "cell_type": "code",
   "execution_count": 8,
   "metadata": {},
   "outputs": [
    {
     "data": {
      "text/plain": [
       "True"
      ]
     },
     "execution_count": 8,
     "metadata": {},
     "output_type": "execute_result"
    }
   ],
   "source": [
    "import webbrowser\n",
    "\n",
    "\n",
    "f = open('helloworld.html','w')\n",
    "\n",
    "message = \"\"\"<html>\n",
    "<head></head>\n",
    "<body>\n",
    "\n",
    "</body>\n",
    "</html>\"\"\"\n",
    "\n",
    "f.write(message)\n",
    "f.close()\n",
    "\n",
    "webbrowser.open_new_tab('helloworld.html')"
   ]
  },
  {
   "cell_type": "code",
   "execution_count": 7,
   "metadata": {},
   "outputs": [
    {
     "data": {
      "image/png": "[encoded data removed]",
      "text/plain": [
       "<matplotlib.figure.Figure at 0x7fc5d4018898>"
      ]
     },
     "metadata": {},
     "output_type": "display_data"
    }
   ],
   "source": [
    "import matplotlib.pyplot as plt #importa a biblioteca para a plotagem\n",
    "a = [\"19/02\",\"19/03\",\"19/04\",\"19/05\",\"19/06\"] #cria array com os valores\n",
    "b = [5.2,3.9,3,2.5,3]\n",
    "b2 = [3,3,2,1,1]\n",
    "plt.bar(a,b, color = 'blue') #faz a plotagem da barra bar(x,y)\n",
    "plt.bar(a,b2, color = 'yellow') #faz a plotagem da barra bar(x,y)\n",
    "plt.ylabel('Reais (R$)') # Label do eixo Y\n",
    "plt.xlabel('Data') # Label do eixo X\n",
    "plt.show() # exibe a plotagem na tela"
   ]
  }
 ],
 "metadata": {
  "kernelspec": {
   "display_name": "Python 3",
   "language": "python",
   "name": "python3"
  },
  "language_info": {
   "codemirror_mode": {
    "name": "ipython",
    "version": 3
   },
   "file_extension": ".py",
   "mimetype": "text/x-python",
   "name": "python",
   "nbconvert_exporter": "python",
   "pygments_lexer": "ipython3",
   "version": "3.6.3"
  }
 },
 "nbformat": 4,
 "nbformat_minor": 2
}
